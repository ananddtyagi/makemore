{
 "cells": [
  {
   "cell_type": "code",
   "execution_count": 1,
   "metadata": {},
   "outputs": [],
   "source": [
    "import torch\n",
    "import torch.nn.functional as F\n",
    "\n",
    "words = open(\"names.txt\").read().splitlines()"
   ]
  },
  {
   "cell_type": "code",
   "execution_count": 2,
   "metadata": {},
   "outputs": [],
   "source": [
    "from helpers import char_to_int_map, int_to_char_map\n",
    "\n",
    "ctoi = char_to_int_map(start_char='.')\n",
    "itoc = int_to_char_map(ctoi)\n",
    "num_c = len(ctoi)"
   ]
  },
  {
   "cell_type": "code",
   "execution_count": 3,
   "metadata": {},
   "outputs": [],
   "source": [
    "def build_dataset(words, block_size=3):\n",
    "    X, Y = [], []\n",
    "    for word in words:\n",
    "        padded_word_list = ['.']*block_size + list(word) + ['.']\n",
    "        \n",
    "        for i in range(len(padded_word_list) - block_size):\n",
    "            chs1 = list(map(lambda ch: ctoi[ch], padded_word_list[i:i+block_size]))\n",
    "            ch2 = ctoi[padded_word_list[i+block_size]]\n",
    "            X.append(chs1)\n",
    "            Y.append(ch2)\n",
    "    X = torch.tensor(X)\n",
    "    Y = torch.tensor(Y)\n",
    "    return X, Y"
   ]
  },
  {
   "cell_type": "code",
   "execution_count": 102,
   "metadata": {},
   "outputs": [],
   "source": [
    "X, Y = build_dataset(words, 3) "
   ]
  },
  {
   "cell_type": "code",
   "execution_count": 5,
   "metadata": {},
   "outputs": [],
   "source": [
    "encoder = lambda t: F.one_hot(torch.tensor(t), num_classes=num_c).float()"
   ]
  },
  {
   "cell_type": "code",
   "execution_count": 6,
   "metadata": {},
   "outputs": [],
   "source": [
    "# layer 1\n",
    "C = torch.rand((num_c, 2))"
   ]
  },
  {
   "cell_type": "code",
   "execution_count": 7,
   "metadata": {},
   "outputs": [
    {
     "name": "stderr",
     "output_type": "stream",
     "text": [
      "/var/folders/fl/qm69qpg54kzc05jg67f46xxm0000gn/T/ipykernel_36707/265170685.py:1: UserWarning: To copy construct from a tensor, it is recommended to use sourceTensor.clone().detach() or sourceTensor.clone().detach().requires_grad_(True), rather than torch.tensor(sourceTensor).\n",
      "  encoder = lambda t: F.one_hot(torch.tensor(t), num_classes=num_c).float()\n"
     ]
    }
   ],
   "source": [
    "emb = encoder(X) @ C"
   ]
  },
  {
   "cell_type": "code",
   "execution_count": 8,
   "metadata": {},
   "outputs": [],
   "source": [
    "# layer 2\n",
    "W1 = torch.randn((6,100))\n",
    "b1 = torch.randn(100)"
   ]
  },
  {
   "cell_type": "code",
   "execution_count": 9,
   "metadata": {},
   "outputs": [],
   "source": [
    "h = emb.view(-1, 6) @ W1 + b1 # set to - 1 as pytorch can infer it's dim "
   ]
  },
  {
   "cell_type": "code",
   "execution_count": 10,
   "metadata": {},
   "outputs": [],
   "source": [
    "activation = lambda layer: torch.tanh(layer)"
   ]
  },
  {
   "cell_type": "code",
   "execution_count": 11,
   "metadata": {},
   "outputs": [],
   "source": [
    "layer_1_out = activation(h)"
   ]
  },
  {
   "cell_type": "code",
   "execution_count": 12,
   "metadata": {},
   "outputs": [],
   "source": [
    "# decoder layer\n",
    "W2 = torch.randn((100, num_c))\n",
    "b2 = torch.randn(num_c)"
   ]
  },
  {
   "cell_type": "code",
   "execution_count": 13,
   "metadata": {},
   "outputs": [],
   "source": [
    "logits = layer_1_out @ W2 + b2"
   ]
  },
  {
   "cell_type": "code",
   "execution_count": 14,
   "metadata": {},
   "outputs": [
    {
     "data": {
      "text/plain": [
       "torch.Size([228146, 27])"
      ]
     },
     "execution_count": 14,
     "metadata": {},
     "output_type": "execute_result"
    }
   ],
   "source": [
    "logits.shape"
   ]
  },
  {
   "cell_type": "code",
   "execution_count": 15,
   "metadata": {},
   "outputs": [],
   "source": [
    " # softmax\n",
    "counts = logits.exp()\n",
    "prob = counts / counts.sum(dim=1, keepdim=True)"
   ]
  },
  {
   "cell_type": "code",
   "execution_count": 16,
   "metadata": {},
   "outputs": [],
   "source": [
    "loss = -prob[torch.arange(prob.shape[0]), Y].log().mean()"
   ]
  },
  {
   "cell_type": "code",
   "execution_count": 17,
   "metadata": {},
   "outputs": [
    {
     "name": "stderr",
     "output_type": "stream",
     "text": [
      "/var/folders/fl/qm69qpg54kzc05jg67f46xxm0000gn/T/ipykernel_36707/265170685.py:1: UserWarning: To copy construct from a tensor, it is recommended to use sourceTensor.clone().detach() or sourceTensor.clone().detach().requires_grad_(True), rather than torch.tensor(sourceTensor).\n",
      "  encoder = lambda t: F.one_hot(torch.tensor(t), num_classes=num_c).float()\n"
     ]
    },
    {
     "name": "stdout",
     "output_type": "stream",
     "text": [
      "8.430161476135254\n"
     ]
    }
   ],
   "source": [
    "def MLP_tune_learning_rate(X, Y, num_c, batch_size, lre, lrs, steps=100):\n",
    "    token_size = X.shape[1]\n",
    "    g = torch.Generator().manual_seed(1)\n",
    "    C = torch.randn((num_c, 2), generator=g)\n",
    "    W1 = torch.randn((2*token_size, 100), generator=g)\n",
    "    b1 = torch.randn(100, generator=g)\n",
    "    W2 = torch.randn((100, num_c), generator=g)\n",
    "    b2 = torch.randn(num_c, generator=g)\n",
    "    \n",
    "    parameters = [C, W1, b1, W2, b2]\n",
    "    for p in parameters:\n",
    "        p.requires_grad = True\n",
    "        \n",
    "    lri = []\n",
    "    lossi = []\n",
    "    \n",
    "    for i in range(steps):\n",
    "        lr = lrs[i]\n",
    "        # make minibatch\n",
    "        ix = torch.randint(0, X.shape[0], (batch_size,), generator=g)\n",
    "\n",
    "        # forward pass\n",
    "        emb = X[ix] @ C # X here is X encoded, but since it's one hot encoded, you can also do C[X] where X is the non-encoded tensor of inputs\n",
    "        l1 = emb.view((-1, token_size*C.shape[1])) @ W1 + b1 \n",
    "        h = activation(l1)\n",
    "        logits = h @ W2 + b2\n",
    "        loss = F.cross_entropy(logits, Y[ix])\n",
    "        # backwards pass\n",
    "        for p in parameters:\n",
    "            p.grad = None\n",
    "        loss.backward()\n",
    "        for p in parameters:\n",
    "            p.data += -lr * p.grad\n",
    "            \n",
    "        lri.append(lre[i])\n",
    "        lossi.append(loss.item())\n",
    "        \n",
    "    return loss.item(), lri, lossi\n",
    "    \n",
    "encx = encoder(X)\n",
    "ency = encoder(Y)\n",
    "batch_size = 32\n",
    "lre = torch.linspace(-3, 0, 1000)\n",
    "lrs = 10**lre\n",
    "steps = 1000\n",
    "loss, lri, lossi = MLP_tune_learning_rate(encx, ency, num_c, batch_size, lre, lrs, steps)\n",
    "print(loss)"
   ]
  },
  {
   "cell_type": "code",
   "execution_count": 18,
   "metadata": {},
   "outputs": [
    {
     "data": {
      "text/plain": [
       "[<matplotlib.lines.Line2D at 0x137b6e9e0>]"
      ]
     },
     "execution_count": 18,
     "metadata": {},
     "output_type": "execute_result"
    },
    {
     "data": {
      "image/png": "[encoded data removed]",
      "text/plain": [
       "<Figure size 640x480 with 1 Axes>"
      ]
     },
     "metadata": {},
     "output_type": "display_data"
    }
   ],
   "source": [
    "import matplotlib.pyplot as plt\n",
    "plt.plot(lri, lossi)\n",
    "# here we are plotting the exponent of the learning rate"
   ]
  },
  {
   "cell_type": "code",
   "execution_count": 81,
   "metadata": {},
   "outputs": [],
   "source": [
    "def MLP(X, Y, parameters, batch_size, lr, steps=100):\n",
    "    token_size = X.shape[1]\n",
    "    \n",
    "    C, W1, b1, W2, b2 = parameters\n",
    "    \n",
    "    for p in parameters:\n",
    "        p.requires_grad = True\n",
    "    \n",
    "    for i in range(steps):\n",
    "        # make minibatch\n",
    "        ix = torch.randint(0, X.shape[0], (batch_size,), generator=g)\n",
    "\n",
    "        # forward pass\n",
    "        emb = X[ix] @ C # X here is X encoded, but since it's one hot encoded, you can also do C[X] where X is the non-encoded tensor of inputs\n",
    "        l1 = emb.view((-1, token_size*C.shape[1])) @ W1 + b1 \n",
    "        h = activation(l1)\n",
    "        logits = h @ W2 + b2\n",
    "        loss = F.cross_entropy(logits, Y[ix])\n",
    "        # backwards pass\n",
    "        for p in parameters:\n",
    "            p.grad = None\n",
    "        loss.backward()\n",
    "        for p in parameters:\n",
    "            p.data += -lr * p.grad\n",
    "            \n",
    "        \n",
    "    return loss.item()\n"
   ]
  },
  {
   "cell_type": "code",
   "execution_count": 82,
   "metadata": {},
   "outputs": [
    {
     "name": "stderr",
     "output_type": "stream",
     "text": [
      "/var/folders/fl/qm69qpg54kzc05jg67f46xxm0000gn/T/ipykernel_36707/265170685.py:1: UserWarning: To copy construct from a tensor, it is recommended to use sourceTensor.clone().detach() or sourceTensor.clone().detach().requires_grad_(True), rather than torch.tensor(sourceTensor).\n",
      "  encoder = lambda t: F.one_hot(torch.tensor(t), num_classes=num_c).float()\n"
     ]
    },
    {
     "name": "stdout",
     "output_type": "stream",
     "text": [
      "2.3534095287323\n"
     ]
    }
   ],
   "source": [
    "encx = encoder(X)\n",
    "ency = encoder(Y)\n",
    "batch_size = 32\n",
    "lr = 10**-1\n",
    "steps = 10000\n",
    "g = torch.Generator().manual_seed(1)\n",
    "C = torch.randn((num_c, 2), generator=g)\n",
    "W1 = torch.randn((2*X.shape[1], 100), generator=g)\n",
    "b1 = torch.randn(100, generator=g)\n",
    "W2 = torch.randn((100, num_c), generator=g)\n",
    "b2 = torch.randn(num_c, generator=g)\n",
    "parameters = [C, W1, b1, W2, b2]\n",
    "\n",
    "loss = MLP(encx, ency, parameters, batch_size, lr, steps)\n",
    "print(loss)"
   ]
  },
  {
   "cell_type": "markdown",
   "metadata": {},
   "source": [
    "# Now with train, val, test"
   ]
  },
  {
   "cell_type": "code",
   "execution_count": 43,
   "metadata": {},
   "outputs": [],
   "source": [
    "train_size = 0.8\n",
    "val_size = 0.1\n",
    "test_size = 0.1\n",
    "def split(data, splits):\n",
    "    assert sum(splits) == 1\n",
    "    data_size = len(X)\n",
    "    # split_data =[ [X[:int(splits[0])]]]\n",
    "    split_data = []\n",
    "    # curr_sum = splits[0]\n",
    "    curr_sum = 0\n",
    "    for s in splits:\n",
    "        split_data.append(data[int(curr_sum*data_size):int((curr_sum+s)*data_size)])\n",
    "        curr_sum+=s\n",
    "        \n",
    "    return tuple(split_data)"
   ]
  },
  {
   "cell_type": "code",
   "execution_count": 86,
   "metadata": {},
   "outputs": [
    {
     "name": "stderr",
     "output_type": "stream",
     "text": [
      "/var/folders/fl/qm69qpg54kzc05jg67f46xxm0000gn/T/ipykernel_36707/265170685.py:1: UserWarning: To copy construct from a tensor, it is recommended to use sourceTensor.clone().detach() or sourceTensor.clone().detach().requires_grad_(True), rather than torch.tensor(sourceTensor).\n",
      "  encoder = lambda t: F.one_hot(torch.tensor(t), num_classes=num_c).float()\n"
     ]
    },
    {
     "name": "stdout",
     "output_type": "stream",
     "text": [
      "training loss:  2.0817739963531494\n",
      "val loss:  2.8143694400787354\n"
     ]
    }
   ],
   "source": [
    "def forward_pass(X, Y, parameters):\n",
    "    C, W1, b1, W2, b2 = parameters\n",
    "    \n",
    "    for p in parameters:\n",
    "        p.requires_grad = True\n",
    "    \n",
    "    emb = X @ C\n",
    "    h = emb.view((-1, W1.shape[0])) @ W1 + b1\n",
    "    l1 = activation(h)\n",
    "    logits = l1 @ W2 + b2\n",
    "    loss = F.cross_entropy(logits, Y)\n",
    "    return loss.item()\n",
    "\n",
    "def runMLP(encx_train, encx_val, ency_train, ency_val, num_c):\n",
    "    batch_size = 32\n",
    "    lr = 10**-1\n",
    "    steps = 10000\n",
    "    emb_layer_size = 10\n",
    "    tanh_layer_size = 200\n",
    "    g = torch.Generator().manual_seed(1)\n",
    "    C = torch.randn((num_c, emb_layer_size), generator=g)\n",
    "    W1 = torch.randn((emb_layer_size*encx_train.shape[1], tanh_layer_size), generator=g)\n",
    "    b1 = torch.randn(tanh_layer_size, generator=g)\n",
    "    W2 = torch.randn((tanh_layer_size, num_c), generator=g)\n",
    "    b2 = torch.randn(num_c, generator=g)\n",
    "    parameters = [C, W1, b1, W2, b2]\n",
    "    training_loss = MLP(encx_train, ency_train, parameters, batch_size, lr, steps)\n",
    "    print(\"training loss: \", training_loss)\n",
    "    # the parameters are passed by reference, which is why they get changed and we don't have to pass them back\n",
    "    val_loss = forward_pass(encx_val, ency_val, parameters)\n",
    "    print(\"val loss: \", val_loss)\n",
    "    return parameters\n",
    "    \n",
    "encx = encoder(X)\n",
    "ency = encoder(Y)\n",
    "encx_train, encx_val, encx_test  = split(encx, [0.8,0.1,0.1])\n",
    "ency_train, ency_val, ency_test = split(ency, [0.8,0.1,0.1])\n",
    "parameters = runMLP(encx_train, encx_val, ency_train, ency_val, num_c)"
   ]
  },
  {
   "cell_type": "code",
   "execution_count": 88,
   "metadata": {},
   "outputs": [
    {
     "data": {
      "image/png": "[encoded data removed]",
      "text/plain": [
       "<Figure size 1000x1000 with 1 Axes>"
      ]
     },
     "metadata": {},
     "output_type": "display_data"
    }
   ],
   "source": [
    "C = parameters[0]\n",
    "plt.figure(figsize=(10,10))\n",
    "plt.scatter(C[:, 0].data, C[:, 1].data, s=200)\n",
    "for i in range(C.shape[0]):\n",
    "    plt.text(C[i,0].item(), C[i, 1].item(), itoc[i], ha=\"center\", va=\"center\", color=\"white\")\n"
   ]
  },
  {
   "cell_type": "code",
   "execution_count": 116,
   "metadata": {},
   "outputs": [
    {
     "name": "stderr",
     "output_type": "stream",
     "text": [
      "/var/folders/fl/qm69qpg54kzc05jg67f46xxm0000gn/T/ipykernel_36707/265170685.py:1: UserWarning: To copy construct from a tensor, it is recommended to use sourceTensor.clone().detach() or sourceTensor.clone().detach().requires_grad_(True), rather than torch.tensor(sourceTensor).\n",
      "  encoder = lambda t: F.one_hot(torch.tensor(t), num_classes=num_c).float()\n"
     ]
    },
    {
     "data": {
      "text/plain": [
       "['chele.',\n",
       " 'calia.',\n",
       " 'flon.',\n",
       " 'jarirss.',\n",
       " 'malee.',\n",
       " 'safi.',\n",
       " 'ricestlei.',\n",
       " 'roat.',\n",
       " 'cadleighe.',\n",
       " 'azya.']"
      ]
     },
     "execution_count": 116,
     "metadata": {},
     "output_type": "execute_result"
    }
   ],
   "source": [
    "def generator(parameters, amt):\n",
    "    C, W1, b1, W2, b2 = parameters\n",
    "    g = torch.Generator().manual_seed(1)\n",
    "    out = []\n",
    "    for i in range(amt):\n",
    "        ix = [0,0,0] # our window is of length 3\n",
    "        name = ''\n",
    "        \n",
    "        while True:\n",
    "            \n",
    "            enc = encoder(torch.tensor(ix))\n",
    "            emb = enc @ C\n",
    "            h = emb.view((-1, W1.shape[0])) @ W1 + b1\n",
    "            l1 = activation(h)\n",
    "            logits = l1 @ W2 + b2\n",
    "            counts = logits.exp()\n",
    "            probs = counts / counts.sum(dim=1, keepdim=True)\n",
    "            next_char_i = torch.multinomial(probs, 1, replacement=True, generator=g)\n",
    "            next_char = itoc[next_char_i.item()]\n",
    "            ix.pop(0)\n",
    "            ix.append(next_char_i)\n",
    "            name += next_char\n",
    "            if next_char_i == 0:\n",
    "                break\n",
    "        out.append(name)\n",
    "    return out\n",
    "names = generator(parameters, 10)\n",
    "names"
   ]
  }
 ],
 "metadata": {
  "kernelspec": {
   "display_name": "Python 3",
   "language": "python",
   "name": "python3"
  },
  "language_info": {
   "codemirror_mode": {
    "name": "ipython",
    "version": 3
   },
   "file_extension": ".py",
   "mimetype": "text/x-python",
   "name": "python",
   "nbconvert_exporter": "python",
   "pygments_lexer": "ipython3",
   "version": "3.10.0"
  }
 },
 "nbformat": 4,
 "nbformat_minor": 2
}
